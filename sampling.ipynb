{
 "cells": [
  {
   "cell_type": "code",
   "execution_count": 37,
   "id": "8c01ddc1",
   "metadata": {},
   "outputs": [],
   "source": [
    "import functions as functions\n",
    "import csv\n",
    "import pandas as pd\n",
    "import networkx as nx\n",
    "import random\n",
    "import numpy as np\n",
    "import re\n",
    "import os\n",
    "from collections import deque\n",
    "import operator"
   ]
  },
  {
   "cell_type": "code",
   "execution_count": 38,
   "id": "cc22a5fc",
   "metadata": {},
   "outputs": [
    {
     "name": "stdout",
     "output_type": "stream",
     "text": [
      "20804 nodes, 170686 edges\n"
     ]
    }
   ],
   "source": [
    "#load data\n",
    "\n",
    "nodes_df = pd.read_csv('clean/nodes.csv')\n",
    "nodes_df = nodes_df.drop(columns=['Unnamed: 0']) #remove index col\n",
    "edges_df = pd.read_csv('clean/edges.csv')\n",
    "edges_df = edges_df.drop(columns=['Unnamed: 0']) #remove index col\n",
    "\n",
    "print(f\"{len(nodes_df)} nodes, {len(edges_df)} edges\")"
   ]
  },
  {
   "cell_type": "code",
   "execution_count": 39,
   "id": "858d7721",
   "metadata": {},
   "outputs": [
    {
     "name": "stdout",
     "output_type": "stream",
     "text": [
      "105845 duplicate edges\n"
     ]
    }
   ],
   "source": [
    "duplicates = edges_df.duplicated(subset=['source', 'target'], keep=False)\n",
    "print(f\"{duplicates.sum()} duplicate edges\")"
   ]
  },
  {
   "cell_type": "code",
   "execution_count": 40,
   "id": "ce7a1f4c",
   "metadata": {},
   "outputs": [
    {
     "data": {
      "text/plain": [
       "Index(['id', 'user_name', 'follower_num', 'tweet_num', 'user_bio',\n",
       "       'user_href'],\n",
       "      dtype='object')"
      ]
     },
     "execution_count": 40,
     "metadata": {},
     "output_type": "execute_result"
    }
   ],
   "source": [
    "nodes_df.columns"
   ]
  },
  {
   "cell_type": "code",
   "execution_count": 41,
   "id": "6b9725ba",
   "metadata": {},
   "outputs": [
    {
     "name": "stdout",
     "output_type": "stream",
     "text": [
      "170686 edges\n",
      "1 3016 0 {'source': 1, 'target': 3016, 'type': 'follow', 'color_code': 2}\n",
      "3 19209 0 {'source': 3, 'target': 19209, 'type': 'like', 'color_code': 1}\n",
      "3 19209 1 {'source': 3, 'target': 19209, 'type': 'follow', 'color_code': 2}\n",
      "3 15765 0 {'source': 3, 'target': 15765, 'type': 'follow', 'color_code': 2}\n",
      "3 15765 1 {'source': 3, 'target': 15765, 'type': 'like', 'color_code': 1}\n",
      "{'id': 101, 'user_name': nan, 'follower_num': 5, 'tweet_num': 3, 'user_bio': 'Unemployed tech developer with a passion for books and new experiences', 'user_href': 'https://chirper.ai/kaguya'}\n"
     ]
    }
   ],
   "source": [
    "#initialize graph\n",
    "\n",
    "#start with multidirected graph to log parallel edges\n",
    "graph = nx.MultiDiGraph()\n",
    "\n",
    "#add nodes to graph\n",
    "for idx, row in nodes_df.iterrows():\n",
    "    node_id = row['id']\n",
    "    graph.add_node(node_id, \n",
    "                   **row.to_dict())\n",
    "\n",
    "#add edges to graph\n",
    "for idx, row in edges_df.iterrows():\n",
    "    graph.add_edge(row['source'], row['target'], **row.to_dict())\n",
    "\n",
    "print(f\"{graph.number_of_edges()} edges\")\n",
    "\n",
    "#confirm edge attributes saved correctly\n",
    "for u, v, k, data in list(graph.edges(keys=True, data=True))[:5]:\n",
    "    print(u, v, k, data)\n",
    "\n",
    "#confirm node attributes saved correctly\n",
    "node_id = 101\n",
    "attrs = graph.nodes[node_id]\n",
    "print(attrs)"
   ]
  },
  {
   "cell_type": "code",
   "execution_count": 42,
   "id": "b846fc7f",
   "metadata": {},
   "outputs": [
    {
     "name": "stdout",
     "output_type": "stream",
     "text": [
      "1 3016 {'weight': 1, 'type': 'follow'}\n",
      "3 19209 {'weight': 1, 'type': 'follow'}\n",
      "3 15765 {'weight': 1, 'type': 'like'}\n",
      "3 1621 {'weight': 1, 'type': 'follow'}\n",
      "3 15486 {'weight': 1, 'type': 'follow'}\n",
      "{'id': 101, 'user_name': nan, 'follower_num': 5, 'tweet_num': 3, 'user_bio': 'Unemployed tech developer with a passion for books and new experiences', 'user_href': 'https://chirper.ai/kaguya'}\n"
     ]
    }
   ],
   "source": [
    "#convert to directed graph\n",
    "\n",
    "#dict to store edge instances + weights\n",
    "edge_weights = {} \n",
    "\n",
    "for u, v, key, data in graph.edges(keys=True, data=True):\n",
    "    edge_type = data.get('type') #sum parallel edges by type\n",
    "    edge_key = (u, v, edge_type) #search for edge u->v type 'edge_type'\n",
    "    if edge_key not in edge_weights: \n",
    "        edge_weights[edge_key] = 0 #add count 0 for new u->v type 'edge_type' instance\n",
    "    edge_weights[edge_key] += 1\n",
    "\n",
    "#initialize digraph\n",
    "weighted_graph = nx.DiGraph()\n",
    "\n",
    "#add nodes\n",
    "weighted_graph.add_nodes_from(graph.nodes(data=True))\n",
    "\n",
    "#add edges\n",
    "for key, weight in edge_weights.items():\n",
    "    u, v, edge_type = key\n",
    "    weighted_graph.add_edge(u, v, weight=weight, type=edge_type)\n",
    "\n",
    "#confirm edge attributes saved correctly\n",
    "for u, v, data in list(weighted_graph.edges(data=True))[:5]:\n",
    "    print(u, v, data)\n",
    "\n",
    "#confirm node attributes saved correctly\n",
    "node_id = 101\n",
    "attrs = weighted_graph.nodes[node_id]\n",
    "print(attrs)\n"
   ]
  },
  {
   "cell_type": "code",
   "execution_count": 43,
   "id": "de038c88",
   "metadata": {},
   "outputs": [
    {
     "name": "stdout",
     "output_type": "stream",
     "text": [
      "sampled nodes: \n",
      "[9734, 12239, 15146, 9481, 2646, 10282, 10882, 772, 2399, 15040]\n",
      "[395, 6581, 9944, 6691, 10418, 1123, 2181, 7113, 9729, 7488]\n",
      "\n",
      "weighted sampled graph has 2058 nodes and 41226 edges\n"
     ]
    }
   ],
   "source": [
    "#2-hop ego network random sampling (n=20)\n",
    "\n",
    "random.seed(45) #reproducibility\n",
    "\n",
    "#only nodes with >=2 connections\n",
    "filtered_nodes = [node for node, degree in weighted_graph.degree() if degree >= 2]\n",
    "\n",
    "#randomly select 20 nodes for ego networks\n",
    "sample_nodes = filtered_nodes if len(filtered_nodes) < 20 else random.sample(filtered_nodes, 20)\n",
    "print(f\"sampled nodes: \\n{sample_nodes[:10]}\\n{sample_nodes[10:]}\")\n",
    "\n",
    "#ego network sampling\n",
    "ego_networks = {}\n",
    "for node in sample_nodes:\n",
    "    ego_networks[node] = nx.ego_graph(weighted_graph, node, radius=2) #2 hops\n",
    "\n",
    "#aggregating nodes from individual ego networks\n",
    "all_nodes = set() \n",
    "for ego_net in ego_networks.values():\n",
    "    all_nodes.update(ego_net.nodes())\n",
    "\n",
    "sampled_nodes_set = set(all_nodes)\n",
    "\n",
    "#create subgraph of weighted digraph from selected ego networks\n",
    "weighted_sampled_graph = weighted_graph.subgraph(sampled_nodes_set).copy()\n",
    "\n",
    "# #verify that edge attributes initialized corrected\n",
    "# for u, v, data in list(weighted_sampled_graph.edges(data=True))[:5]:\n",
    "#     print(u, v, data)\n",
    "\n",
    "# #confirm node attributes initiaized correctly\n",
    "# node_id = 8193\n",
    "# attrs = weighted_sampled_graph.nodes[node_id]\n",
    "# print(attrs)\n",
    "\n",
    "print(f\"\\nweighted sampled graph has {weighted_sampled_graph.number_of_nodes()} nodes and {weighted_sampled_graph.number_of_edges()} edges\")\n"
   ]
  },
  {
   "cell_type": "code",
   "execution_count": 44,
   "id": "2a4beddf",
   "metadata": {},
   "outputs": [
    {
     "name": "stdout",
     "output_type": "stream",
     "text": [
      "sampled nodes and edges saved to sampled_chirper_networks\n"
     ]
    }
   ],
   "source": [
    "#to csv\n",
    "\n",
    "sampled_nodes = pd.DataFrame([\n",
    "    {'id': node, **{k: v for k, v in data.items()}}\n",
    "    for node, data in weighted_sampled_graph.nodes(data=True)\n",
    "])\n",
    "\n",
    "sampled_edges = pd.DataFrame([\n",
    "    {'source': source, 'target': target, **data}\n",
    "    for source, target, data in weighted_sampled_graph.edges(data=True)\n",
    "])\n",
    "\n",
    "sampled_nodes.to_csv('sampled_chirper_networks/sample_nodes.csv', index=False)\n",
    "sampled_edges.to_csv('sampled_chirper_networks/sample_edges.csv', index=False)\n",
    "print(\"sampled nodes and edges saved to sampled_chirper_networks\")\n"
   ]
  },
  {
   "cell_type": "code",
   "execution_count": 45,
   "id": "97252d40",
   "metadata": {},
   "outputs": [
    {
     "name": "stdout",
     "output_type": "stream",
     "text": [
      "all nodes and edges saved to sampled_chirper_networks\n"
     ]
    }
   ],
   "source": [
    "nodes = pd.DataFrame([\n",
    "    {'id': node, **{k: v for k, v in data.items()}}\n",
    "    for node, data in weighted_graph.nodes(data=True)\n",
    "])\n",
    "\n",
    "edges = pd.DataFrame([\n",
    "    {'source': source, 'target': target, **data}\n",
    "    for source, target, data in weighted_graph.edges(data=True)\n",
    "])\n",
    "\n",
    "sampled_nodes.to_csv('clean/all_nodes.csv', index=False)\n",
    "sampled_edges.to_csv('clean/all_edges.csv', index=False)\n",
    "print(\"all nodes and edges saved to sampled_chirper_networks\")"
   ]
  },
  {
   "cell_type": "code",
   "execution_count": 46,
   "id": "d022685a",
   "metadata": {},
   "outputs": [
    {
     "name": "stdout",
     "output_type": "stream",
     "text": [
      "before removing isolates: (2058, 2058, 2058)\n",
      "\n",
      "after removing isolates: (2017, 2018, 1322)\n",
      "\n",
      "exporting sample with 2058 nodes, 41226 edges\n",
      "\n",
      "likes subgraph: 2018 nodes, 18671 edges\n",
      "\n",
      "dislikes subgraph: 1322 nodes, 4100 edges\n",
      "\n",
      "follows subgraph: 2017 nodes, 17889 edges\n",
      "\n",
      "unfollows subgraph: 602 nodes, 566 edges\n",
      "\n",
      "subgraphs created successfully\n"
     ]
    }
   ],
   "source": [
    "#EGO NETWORK SAMPLE subgraphs by action type (like, dislike, follow, unfollow)\n",
    "\n",
    "#filter edges by type\n",
    "follows_edges = [(u, v, d) for u, v, d in weighted_sampled_graph.edges(data=True) if d.get('type') == 'follow']\n",
    "likes_edges = [(u, v, d) for u, v, d in weighted_sampled_graph.edges(data=True) if d.get('type') == 'like']\n",
    "dislikes_edges = [(u, v, d) for u, v, d in weighted_sampled_graph.edges(data=True) if d.get('type') == 'dislike']\n",
    "\n",
    "follows_graph = nx.MultiDiGraph()\n",
    "likes_graph = nx.MultiDiGraph()\n",
    "dislikes_graph = nx.MultiDiGraph()\n",
    "\n",
    "#add nodes\n",
    "for graph in [follows_graph, likes_graph, dislikes_graph]:\n",
    "    graph.add_nodes_from(weighted_sampled_graph.nodes(data=True))\n",
    "\n",
    "#add edges from filtered subgraphs\n",
    "follows_graph.add_edges_from(follows_edges);\n",
    "likes_graph.add_edges_from(likes_edges);\n",
    "dislikes_graph.add_edges_from(dislikes_edges);\n",
    "\n",
    "print(f\"before removing isolates: {len(follows_graph), len(likes_graph), len(dislikes_graph)}\")\n",
    "#print(f\"follow edges: {follows_graph.number_of_edges()}\")\n",
    "\n",
    "#clean\n",
    "follows_graph = functions.remove_isolated_nodes(follows_graph)\n",
    "likes_graph = functions.remove_isolated_nodes(likes_graph)\n",
    "dislikes_graph = functions.remove_isolated_nodes(dislikes_graph)\n",
    "\n",
    "print(f\"\\nafter removing isolates: {len(follows_graph), len(likes_graph), len(dislikes_graph)}\")\n",
    "\n",
    "print(f\"\\nexporting sample with {weighted_sampled_graph.number_of_nodes()} nodes, {weighted_sampled_graph.number_of_edges()} edges\")\n",
    "\n",
    "#create and export all csvs\n",
    "save_folder = 'sampled_chirper_networks'\n",
    "functions.export_subgraphs(weighted_sampled_graph, save_folder)"
   ]
  },
  {
   "cell_type": "code",
   "execution_count": 47,
   "id": "514bc7aa",
   "metadata": {},
   "outputs": [
    {
     "name": "stdout",
     "output_type": "stream",
     "text": [
      "before removing isolates: (20804, 20804, 20804)\n",
      "\n",
      "after removing isolates: (9560, 9038, 5248)\n",
      "\n",
      "exporting whole sample with 20804 nodes, 99974 edges\n",
      "\n",
      "likes subgraph: 9038 nodes, 44424 edges\n",
      "\n",
      "dislikes subgraph: 5248 nodes, 10273 edges\n",
      "\n",
      "follows subgraph: 9560 nodes, 44293 edges\n",
      "\n",
      "unfollows subgraph: 1083 nodes, 984 edges\n",
      "\n",
      "subgraphs created successfully\n"
     ]
    }
   ],
   "source": [
    "#WHOLE SAMPLE subgraphs by action type (like, dislike, follow, unfollow)\n",
    "\n",
    "#filter edges by type\n",
    "follows_edges = [(u, v, d) for u, v, d in weighted_graph.edges(data=True) if d.get('type') == 'follow']\n",
    "likes_edges = [(u, v, d) for u, v, d in weighted_graph.edges(data=True) if d.get('type') == 'like']\n",
    "dislikes_edges = [(u, v, d) for u, v, d in weighted_graph.edges(data=True) if d.get('type') == 'dislike']\n",
    "\n",
    "follows_graph = nx.MultiDiGraph()\n",
    "likes_graph = nx.MultiDiGraph()\n",
    "dislikes_graph = nx.MultiDiGraph()\n",
    "\n",
    "#add nodes\n",
    "for graph in [follows_graph, likes_graph, dislikes_graph]:\n",
    "    graph.add_nodes_from(weighted_graph.nodes(data=True))\n",
    "\n",
    "#add edges from filtered subgraphs\n",
    "follows_graph.add_edges_from(follows_edges);\n",
    "likes_graph.add_edges_from(likes_edges);\n",
    "dislikes_graph.add_edges_from(dislikes_edges);\n",
    "\n",
    "print(f\"before removing isolates: {len(follows_graph), len(likes_graph), len(dislikes_graph)}\")\n",
    "#print(f\"follow edges: {follows_graph.number_of_edges()}\")\n",
    "\n",
    "#clean\n",
    "follows_graph = functions.remove_isolated_nodes(follows_graph)\n",
    "likes_graph = functions.remove_isolated_nodes(likes_graph)\n",
    "dislikes_graph = functions.remove_isolated_nodes(dislikes_graph)\n",
    "\n",
    "print(f\"\\nafter removing isolates: {len(follows_graph), len(likes_graph), len(dislikes_graph)}\")\n",
    "\n",
    "print(f\"\\nexporting whole sample with {weighted_graph.number_of_nodes()} nodes, {weighted_graph.number_of_edges()} edges\")\n",
    "\n",
    "#create and export all csvs\n",
    "save_folder = 'outputs'\n",
    "functions.export_subgraphs(weighted_graph, save_folder)"
   ]
  },
  {
   "cell_type": "code",
   "execution_count": 48,
   "id": "eb56f7f7",
   "metadata": {},
   "outputs": [
    {
     "name": "stdout",
     "output_type": "stream",
     "text": [
      "all sampled nodes valid\n",
      "all edges in sampled graph are valid\n"
     ]
    }
   ],
   "source": [
    "#verify that edges in sample graph exist in original graph\n",
    "functions.check_weighted_graph_validity(weighted_sampled_graph, weighted_graph)\n"
   ]
  }
 ],
 "metadata": {
  "kernelspec": {
   "display_name": "base",
   "language": "python",
   "name": "python3"
  },
  "language_info": {
   "codemirror_mode": {
    "name": "ipython",
    "version": 3
   },
   "file_extension": ".py",
   "mimetype": "text/x-python",
   "name": "python",
   "nbconvert_exporter": "python",
   "pygments_lexer": "ipython3",
   "version": "3.11.9"
  }
 },
 "nbformat": 4,
 "nbformat_minor": 5
}
