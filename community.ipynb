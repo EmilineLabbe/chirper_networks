{
 "cells": [
  {
   "cell_type": "code",
   "execution_count": 60,
   "id": "52f28d0f",
   "metadata": {},
   "outputs": [
    {
     "name": "stdout",
     "output_type": "stream",
     "text": [
      "20804 nodes, 99974 edges\n"
     ]
    }
   ],
   "source": [
    "import networkx as nx\n",
    "from cdlib.algorithms import infomap\n",
    "\n",
    "gexf_path = 'outputs/full_graph.gexf'\n",
    "graph = nx.read_gexf(gexf_path)\n",
    "\n",
    "print(f\"{graph.number_of_nodes()} nodes, {graph.number_of_edges()} edges\")"
   ]
  },
  {
   "cell_type": "code",
   "execution_count": 61,
   "id": "f9a181f8",
   "metadata": {},
   "outputs": [
    {
     "name": "stdout",
     "output_type": "stream",
     "text": [
      "Found 9905 communities\n"
     ]
    }
   ],
   "source": [
    "communities = infomap(graph)\n",
    "print(f\"Found {len(communities.communities)} communities\")"
   ]
  },
  {
   "cell_type": "code",
   "execution_count": 62,
   "id": "4ebd75a3",
   "metadata": {},
   "outputs": [
    {
     "name": "stdout",
     "output_type": "stream",
     "text": [
      "Largest component: 10894 nodes, 99923 edges\n"
     ]
    }
   ],
   "source": [
    "components = nx.weakly_connected_components(graph)\n",
    "largest_component_nodes = max(components, key=len)\n",
    "lcc = graph.subgraph(largest_component_nodes).copy()\n",
    "print(f\"Largest component: {lcc.number_of_nodes()} nodes, {lcc.number_of_edges()} edges\")"
   ]
  },
  {
   "cell_type": "code",
   "execution_count": 63,
   "id": "b663757b",
   "metadata": {},
   "outputs": [
    {
     "name": "stdout",
     "output_type": "stream",
     "text": [
      "Found 29 communities\n",
      "Top community sizes: [9843, 851, 124, 8, 8, 6, 6, 5, 4, 3]\n"
     ]
    }
   ],
   "source": [
    "lcc_communities = infomap(lcc)\n",
    "print(f\"Found {len(lcc_communities.communities)} communities\")\n",
    "community_sizes = sorted([len(c) for c in lcc_communities.communities], reverse=True)\n",
    "print(\"Top community sizes:\", community_sizes[:10])"
   ]
  },
  {
   "cell_type": "code",
   "execution_count": 65,
   "id": "e76eae75",
   "metadata": {},
   "outputs": [
    {
     "name": "stdout",
     "output_type": "stream",
     "text": [
      "Graph with community attributes saved as 'graph_with_infomap_communities.gexf'\n"
     ]
    }
   ],
   "source": [
    "node_to_comm = {}\n",
    "\n",
    "node_to_comm = {}\n",
    "for idx, community in enumerate(lcc_communities.communities):\n",
    "    for node in community:\n",
    "        node_to_comm[node] = idx\n",
    "\n",
    "for node in lcc.nodes():\n",
    "    lcc.nodes[node]['infomap_community'] = node_to_comm.get(node, -1)  # -1 for nodes not assigned\n",
    "\n",
    "nx.write_gexf(lcc, \"outputs/graph_with_infomap_communities.gexf\")\n",
    "print(\"Graph with community attributes saved as 'graph_with_infomap_communities.gexf'\")\n"
   ]
  }
 ],
 "metadata": {
  "kernelspec": {
   "display_name": "base",
   "language": "python",
   "name": "python3"
  },
  "language_info": {
   "codemirror_mode": {
    "name": "ipython",
    "version": 3
   },
   "file_extension": ".py",
   "mimetype": "text/x-python",
   "name": "python",
   "nbconvert_exporter": "python",
   "pygments_lexer": "ipython3",
   "version": "3.11.9"
  }
 },
 "nbformat": 4,
 "nbformat_minor": 5
}
